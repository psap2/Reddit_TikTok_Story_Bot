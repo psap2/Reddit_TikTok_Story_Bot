{
 "cells": [
  {
   "cell_type": "code",
   "execution_count": 25,
   "id": "4071d5b6-55fc-4e28-b699-dd3a736c0a9d",
   "metadata": {
    "tags": []
   },
   "outputs": [
    {
     "name": "stdout",
     "output_type": "stream",
     "text": [
      "Requirement already satisfied: praw in /Users/thakursapkota/anaconda3/lib/python3.11/site-packages (7.7.1)\n",
      "Requirement already satisfied: prawcore<3,>=2.1 in /Users/thakursapkota/anaconda3/lib/python3.11/site-packages (from praw) (2.4.0)\n",
      "Requirement already satisfied: update-checker>=0.18 in /Users/thakursapkota/anaconda3/lib/python3.11/site-packages (from praw) (0.18.0)\n",
      "Requirement already satisfied: websocket-client>=0.54.0 in /Users/thakursapkota/anaconda3/lib/python3.11/site-packages (from praw) (0.58.0)\n",
      "Requirement already satisfied: requests<3.0,>=2.6.0 in /Users/thakursapkota/anaconda3/lib/python3.11/site-packages (from prawcore<3,>=2.1->praw) (2.31.0)\n",
      "Requirement already satisfied: six in /Users/thakursapkota/anaconda3/lib/python3.11/site-packages (from websocket-client>=0.54.0->praw) (1.16.0)\n",
      "Requirement already satisfied: charset-normalizer<4,>=2 in /Users/thakursapkota/anaconda3/lib/python3.11/site-packages (from requests<3.0,>=2.6.0->prawcore<3,>=2.1->praw) (2.0.4)\n",
      "Requirement already satisfied: idna<4,>=2.5 in /Users/thakursapkota/anaconda3/lib/python3.11/site-packages (from requests<3.0,>=2.6.0->prawcore<3,>=2.1->praw) (3.4)\n",
      "Requirement already satisfied: urllib3<3,>=1.21.1 in /Users/thakursapkota/anaconda3/lib/python3.11/site-packages (from requests<3.0,>=2.6.0->prawcore<3,>=2.1->praw) (1.26.16)\n",
      "Requirement already satisfied: certifi>=2017.4.17 in /Users/thakursapkota/anaconda3/lib/python3.11/site-packages (from requests<3.0,>=2.6.0->prawcore<3,>=2.1->praw) (2023.11.17)\n",
      "Note: you may need to restart the kernel to use updated packages.\n"
     ]
    }
   ],
   "source": [
    "pip install praw"
   ]
  },
  {
   "cell_type": "code",
   "execution_count": 26,
   "id": "906d6944-864f-4083-ae72-27d48a0006fb",
   "metadata": {
    "tags": []
   },
   "outputs": [],
   "source": [
    "import praw\n",
    "import pandas as pd\n",
    "from datetime import datetime\n",
    "\n",
    "reddit = praw.Reddit(\n",
    "    client_id='ZKZvESPfY61jcv_aefnZ-w',\n",
    "    client_secret='SMD3xyq0fEEderPiTVWIHQyyz2Luqg',\n",
    "    user_agent='Top10StoriesBot/0.1/u/Prasun-',\n",
    "    username='Prasun-',\n",
    "    password='Prasamsha1'\n",
    ")"
   ]
  },
  {
   "cell_type": "code",
   "execution_count": 27,
   "id": "7449d3f1-04f7-47dd-8d4b-aade4dc4a012",
   "metadata": {
    "tags": []
   },
   "outputs": [],
   "source": [
    "def get_top_stories(subreddit, period='all', limit=10):\n",
    "    subreddit = reddit.subreddit(subreddit)\n",
    "    top_stories = subreddit.top(time_filter=period, limit=limit)\n",
    "    stories_data = [{\n",
    "        'Title': post.title,\n",
    "        'URL': post.url,\n",
    "        'Upvotes': post.score,\n",
    "        'Posted Date': datetime.fromtimestamp(post.created_utc).strftime('%Y-%m-%d %H:%M:%S'),\n",
    "        'Comments Count': post.num_comments\n",
    "    } for post in top_stories]\n",
    "    return stories_data"
   ]
  },
  {
   "cell_type": "code",
   "execution_count": 28,
   "id": "319668f0-61c6-48f9-be54-7f840610b2ee",
   "metadata": {
    "tags": []
   },
   "outputs": [],
   "source": [
    "def save_to_excel(data, filename='Reddit_Top_Stories.xlsx'):\n",
    "    df = pd.DataFrame(data)\n",
    "\n",
    "    # Try to open an existing workbook\n",
    "    try:\n",
    "        with pd.ExcelWriter(filename, engine='openpyxl', mode='a', if_sheet_exists='overlay') as writer:\n",
    "            df.to_excel(writer, index=False, sheet_name='Top Stories')\n",
    "    except FileNotFoundError:\n",
    "        with pd.ExcelWriter(filename, engine='openpyxl', mode='w') as writer:\n",
    "            df.to_excel(writer, index=False, sheet_name='Top Stories')"
   ]
  },
  {
   "cell_type": "code",
   "execution_count": 29,
   "id": "c6e4c4ef-fb7a-4cbc-a570-a1a1c23cfe34",
   "metadata": {
    "tags": []
   },
   "outputs": [],
   "source": [
    "subreddits = ['stories', 'shortscarystories', 'StoryTimeWithReddit']  # Desired subreddits here\n",
    "all_posts = []\n",
    "for a_subreddit in subreddits:\n",
    "    posts = get_top_stories(a_subreddit)\n",
    "    all_posts.extend(posts)  # Collect all posts in one list\n",
    "\n",
    "save_to_excel(all_posts)  # Save all posts to an Excel file"
   ]
  },
  {
   "cell_type": "code",
   "execution_count": null,
   "id": "8647b3bb-56a4-43a1-8984-6b9da75a1419",
   "metadata": {},
   "outputs": [],
   "source": []
  }
 ],
 "metadata": {
  "kernelspec": {
   "display_name": "Python 3 (ipykernel)",
   "language": "python",
   "name": "python3"
  },
  "language_info": {
   "codemirror_mode": {
    "name": "ipython",
    "version": 3
   },
   "file_extension": ".py",
   "mimetype": "text/x-python",
   "name": "python",
   "nbconvert_exporter": "python",
   "pygments_lexer": "ipython3",
   "version": "3.12.0"
  }
 },
 "nbformat": 4,
 "nbformat_minor": 5
}
